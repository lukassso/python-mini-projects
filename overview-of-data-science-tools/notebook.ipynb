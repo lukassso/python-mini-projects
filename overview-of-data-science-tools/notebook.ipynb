{
 "cells": [
  {
   "cell_type": "markdown",
   "metadata": {},
   "source": [
    "# My First Positive Thoughts About Python Lessons\n",
    "\n",
    "Starting my Python journey has been both exciting and enlightening. Here are some of my initial thoughts:\n",
    "\n",
    "1. **Python's Simplicity**: One of the first things I noticed is how clean and readable Python's syntax is. It's very intuitive, especially for beginners, which makes learning to code much less intimidating.\n",
    "  \n",
    "2. **Instant Feedback**: Using interactive environments like Jupyter Notebooks allows for immediate feedback on the code, which helps in quickly identifying mistakes and learning from them.\n",
    "\n",
    "3. **Versatility**: Python's ability to handle a wide range of tasks—from web development to data science—makes it a valuable skill to learn. It’s encouraging to know that the knowledge gained here can be applied to many real-world applications.\n",
    "\n",
    "4. **Supportive Community**: Python has an incredibly supportive community with a vast amount of resources, tutorials, and libraries available. It's comforting to know that whenever I get stuck, there’s a wealth of knowledge to tap into.\n",
    "\n",
    "5. **Hands-on Learning**: The exercises and practical examples during the lessons keep me engaged and allow me to see how Python works in real-world scenarios.\n",
    "\n",
    "Overall, Python feels like a great language to start with due to its simplicity and power. I'm looking forward to diving deeper into more complex concepts as the lessons progress.\n"
   ]
  },
  {
   "cell_type": "markdown",
   "metadata": {},
   "source": [
    "\n",
    "# -------------------------------\n",
    "# 2. Tests\n",
    "```python\n",
    "```\n",
    "\n"
   ]
  },
  {
   "cell_type": "code",
   "execution_count": null,
   "metadata": {},
   "outputs": [],
   "source": [
    "def add( a,  b):\n",
    "    \"\"\"\n",
    "    Add two nubers\n",
    "\n",
    "    Args: \n",
    "        a (int): First letter\n",
    "        b (int): Second letter\n",
    "    \n",
    "    Returns: \n",
    "        int: Sum of two numbers\n",
    "    \"\"\"\n",
    "    return a + b # return sum of a and b"
   ]
  },
  {
   "cell_type": "code",
   "execution_count": null,
   "metadata": {},
   "outputs": [],
   "source": [
    "print(\"Hello world!\")\n",
    "\n",
    "name = \"Anna\"\n",
    "age = 22\n",
    "print(\"My name is\", name, \"and i have\", age)\n",
    " \n",
    "\n"
   ]
  },
  {
   "cell_type": "code",
   "execution_count": null,
   "metadata": {},
   "outputs": [],
   "source": [
    "text = \"python is great!\"\n",
    "\n",
    "text.upper()\n",
    "text.split()"
   ]
  },
  {
   "cell_type": "code",
   "execution_count": null,
   "metadata": {},
   "outputs": [],
   "source": [
    "#fstrings is substitute templeate string from js.\n",
    "name = \"Joe\"\n",
    "text = f\"Hello my name is {name}\"\n",
    "print(text)\n",
    "\n",
    "name.strip() #ramove spaces on left and riht\n",
    "\n",
    "\"Py\" in \"Python\"\n",
    "\n",
    "\n"
   ]
  },
  {
   "cell_type": "code",
   "execution_count": null,
   "metadata": {},
   "outputs": [],
   "source": [
    "2 != 5\n",
    "bool(0)\n"
   ]
  },
  {
   "cell_type": "code",
   "execution_count": null,
   "metadata": {},
   "outputs": [],
   "source": [
    "\n",
    "# x = int(input(\"Write some number: \"))\n",
    "# print(f\"number {x} is\" + \" not\"*(not x%2 == 0) + \" even\")\n",
    "\n",
    "print(\"Before input\")\n",
    "x = int(input(\"Write some number: \"))\n",
    "print(f\"x is: {x}\")\n",
    "print(f\"number {x} is\" + \" not\"*(not x % 2 == 0) + \" even\")\n"
   ]
  },
  {
   "cell_type": "code",
   "execution_count": null,
   "metadata": {},
   "outputs": [],
   "source": [
    "import ipywidgets as widgets\n",
    "from IPython.display import display\n",
    "\n",
    "def check_even(x: int) -> None:\n",
    "    result = f\"number {x} is\" + (\" not \" if x % 2 != 0 else \" \") + \"even\"\n",
    "    print(result)\n",
    "\n",
    "slider = widgets.IntSlider(description=\"Number:\", min=0, max=100, step=1, value=0)\n",
    "widgets.interact(check_even, x=slider)"
   ]
  },
  {
   "cell_type": "markdown",
   "metadata": {},
   "source": [
    "# NOTE about input()\n",
    "The input() function may not work as expected in Jupyter Notebooks due to its interactive nature. Jupyter environments are primarily designed for data analysis and visualization, where interactive user input is not commonly needed. If your code requires user input (e.g., using input()), it’s recommended to run the script in a standard Python environment (e.g., as a .py file in a terminal or in VS Code), where full interaction is supported."
   ]
  },
  {
   "cell_type": "markdown",
   "metadata": {},
   "source": [
    "# 3. Ideas \n",
    "## Histogram with 5 bins\n"
   ]
  },
  {
   "cell_type": "code",
   "execution_count": 1,
   "metadata": {},
   "outputs": [
    {
     "data": {
      "image/png": "[encoded data removed]",
      "text/plain": [
       "<Figure size 640x480 with 1 Axes>"
      ]
     },
     "metadata": {},
     "output_type": "display_data"
    }
   ],
   "source": [
    "import numpy as np\n",
    "import pandas as pd\n",
    "import matplotlib.pyplot as plt\n",
    "\n",
    "x = [21, 22, 23, 3,44,34]\n",
    "num_bins = 5\n",
    "plt.hist(x, num_bins)\n",
    "plt.show()\n",
    "\n"
   ]
  },
  {
   "cell_type": "markdown",
   "metadata": {},
   "source": [
    "# 4. Compound interest"
   ]
  },
  {
   "cell_type": "code",
   "execution_count": 3,
   "metadata": {},
   "outputs": [
    {
     "data": {
      "text/plain": [
       "1060.770182997782"
      ]
     },
     "execution_count": 3,
     "metadata": {},
     "output_type": "execute_result"
    }
   ],
   "source": [
    "# Re-defining the parameters due to environment reset\n",
    "initial_amount_daily = 1000  # initial deposit in PLN (assuming 1000 PLN as initial amount for demonstration)\n",
    "annual_rate = 5.9  # annual interest rate in percentage\n",
    "compounding_frequency = 365  # daily compounding\n",
    "years = 1  # investment duration in years\n",
    "\n",
    "# Calculating final amount with daily compounding\n",
    "final_amount_daily = initial_amount_daily * (1 + annual_rate / (100 * compounding_frequency)) ** (compounding_frequency * years)\n",
    "final_amount_daily\n"
   ]
  },
  {
   "cell_type": "code",
   "execution_count": 4,
   "metadata": {},
   "outputs": [
    {
     "data": {
      "text/plain": [
       "1000.2739726027396"
      ]
     },
     "execution_count": 4,
     "metadata": {},
     "output_type": "execute_result"
    }
   ],
   "source": [
    "# Calculating the balance after one day with daily compounding at 10% annual interest rate\n",
    "days_one = 1  # one day\n",
    "\n",
    "# Calculating final amount after one day\n",
    "amount_one_day = 1000 * (1 + (10 / (100 * 365))) ** days_one\n",
    "amount_one_day\n"
   ]
  },
  {
   "cell_type": "markdown",
   "metadata": {},
   "source": [
    "# 5. Pdf analysis\n",
    "\n"
   ]
  },
  {
   "cell_type": "code",
   "execution_count": null,
   "metadata": {},
   "outputs": [],
   "source": [
    "from PyPDF2 import PdfFileReader\n",
    "\n",
    "# Paths to the PDF files\n",
    "file_paths = ['/mnt/data/CV-09-24-1.pdf', '/mnt/data/CV-09-24.pdf']\n",
    "\n",
    "# Function to get basic details about PDF quality, resolution isn't natively extractable but we can assess details per page\n",
    "pdf_details = []\n",
    "for file_path in file_paths:\n",
    "    try:\n",
    "        with open(file_path, 'rb') as file:\n",
    "            pdf = PdfFileReader(file)\n",
    "            num_pages = pdf.getNumPages()\n",
    "            pdf_info = pdf.getDocumentInfo()\n",
    "            pdf_details.append({\n",
    "                'File Name': file_path.split('/')[-1],\n",
    "                'Number of Pages': num_pages,\n",
    "                'Author': pdf_info.author if pdf_info.author else 'Unknown',\n",
    "                'Title': pdf_info.title if pdf_info.title else 'No Title',\n",
    "                'Producer': pdf_info.producer if pdf_info.producer else 'Unknown',\n",
    "            })\n",
    "    except Exception as e:\n",
    "        pdf_details.append({\n",
    "            'File Name': file_path.split('/')[-1],\n",
    "            'Error': str(e)\n",
    "        })\n",
    "\n",
    "import pandas as pd\n",
    "pdf_details_df = pd.DataFrame(pdf_details)\n",
    "\n",
    "# Display the dataframe with details\n",
    "import ace_tools as tools; tools.display_dataframe_to_user(name=\"PDF File Details\", dataframe=pdf_details_df)\n"
   ]
  },
  {
   "cell_type": "code",
   "execution_count": null,
   "metadata": {},
   "outputs": [],
   "source": [
    "from pdf2image import convert_from_path\n",
    "\n",
    "# Function to calculate image resolution (PPI)\n",
    "def calculate_ppi(images, dpi):\n",
    "    # Result to hold PPI details per image (page)\n",
    "    ppi_details = []\n",
    "    for i, img in enumerate(images):\n",
    "        # Original image dimensions in pixels\n",
    "        width, height = img.size\n",
    "        # Calculate PPI based on dimensions and DPI setting\n",
    "        ppi_x = width / (width / dpi)\n",
    "        ppi_y = height / (height / dpi)\n",
    "        ppi_details.append({\n",
    "            'Page': i + 1,\n",
    "            'Width (px)': width,\n",
    "            'Height (px)': height,\n",
    "            'Calculated PPI X': round(ppi_x),\n",
    "            'Calculated PPI Y': round(ppi_y)\n",
    "        })\n",
    "    return ppi_details\n",
    "\n",
    "# Define DPI for conversion (commonly used 300 for standard print quality)\n",
    "dpi = 300\n",
    "ppi_results = []\n",
    "\n",
    "# Iterate through each PDF and analyze its images for PPI\n",
    "for file_path in file_paths:\n",
    "    try:\n",
    "        # Convert PDF to images\n",
    "        images = convert_from_path(file_path, dpi=dpi)\n",
    "        # Calculate PPI for each page\n",
    "        file_ppi_details = calculate_ppi(images, dpi)\n",
    "        for detail in file_ppi_details:\n",
    "            detail['File Name'] = file_path.split('/')[-1]\n",
    "        ppi_results.extend(file_ppi_details)\n",
    "    except Exception as e:\n",
    "        ppi_results.append({\n",
    "            'File Name': file_path.split('/')[-1],\n",
    "            'Error': str(e)\n",
    "        })\n",
    "\n",
    "ppi_results_df = pd.DataFrame(ppi_results)\n",
    "\n",
    "# Display the PPI details to the user\n",
    "tools.display_dataframe_to_user(name=\"PDF PPI Details\", dataframe=ppi_results_df)\n"
   ]
  },
  {
   "cell_type": "code",
   "execution_count": null,
   "metadata": {},
   "outputs": [],
   "source": [
    "from pdf2image import convert_from_path\n",
    "from PIL import Image\n",
    "import os\n",
    "\n",
    "# Function to reduce image PPI and save as new PDF\n",
    "def reduce_ppi_and_save(images, output_path, target_dpi=100):\n",
    "    # Convert each image to the target DPI and save\n",
    "    new_images = [img.resize((int(img.width * target_dpi / 300), int(img.height * target_dpi / 300)),\n",
    "                             Image.LANCZOS) for img in images]\n",
    "    new_images[0].save(output_path, save_all=True, append_images=new_images[1:])\n",
    "\n",
    "# Paths to save reduced PPI PDFs\n",
    "output_files = ['/mnt/data/CV-09-24-1_100ppi.pdf', '/mnt/data/CV-09-24_100ppi.pdf']\n",
    "\n",
    "# Process each PDF file\n",
    "for file_path, output_path in zip(file_paths, output_files):\n",
    "    try:\n",
    "        # Convert PDF to images at 300 DPI (to maintain original details for resizing)\n",
    "        images = convert_from_path(file_path, dpi=300)\n",
    "        # Reduce images to target DPI and save as new PDF\n",
    "        reduce_ppi_and_save(images, output_path, target_dpi=100)\n",
    "    except Exception as e:\n",
    "        print(f\"Error processing {file_path}: {e}\")\n",
    "\n",
    "output_files\n"
   ]
  }
 ],
 "metadata": {
  "kernelspec": {
   "display_name": "overview-of-data-science-tools",
   "language": "python",
   "name": "python3"
  },
  "language_info": {
   "codemirror_mode": {
    "name": "ipython",
    "version": 3
   },
   "file_extension": ".py",
   "mimetype": "text/x-python",
   "name": "python",
   "nbconvert_exporter": "python",
   "pygments_lexer": "ipython3",
   "version": "3.12.7"
  }
 },
 "nbformat": 4,
 "nbformat_minor": 2
}
