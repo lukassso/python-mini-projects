{
 "cells": [
  {
   "cell_type": "markdown",
   "metadata": {},
   "source": [
    "# My First Positive Thoughts About Python Lessons\n",
    "\n",
    "Starting my Python journey has been both exciting and enlightening. Here are some of my initial thoughts:\n",
    "\n",
    "1. **Python's Simplicity**: One of the first things I noticed is how clean and readable Python's syntax is. It's very intuitive, especially for beginners, which makes learning to code much less intimidating.\n",
    "  \n",
    "2. **Instant Feedback**: Using interactive environments like Jupyter Notebooks allows for immediate feedback on the code, which helps in quickly identifying mistakes and learning from them.\n",
    "\n",
    "3. **Versatility**: Python's ability to handle a wide range of tasks—from web development to data science—makes it a valuable skill to learn. It’s encouraging to know that the knowledge gained here can be applied to many real-world applications.\n",
    "\n",
    "4. **Supportive Community**: Python has an incredibly supportive community with a vast amount of resources, tutorials, and libraries available. It's comforting to know that whenever I get stuck, there’s a wealth of knowledge to tap into.\n",
    "\n",
    "5. **Hands-on Learning**: The exercises and practical examples during the lessons keep me engaged and allow me to see how Python works in real-world scenarios.\n",
    "\n",
    "Overall, Python feels like a great language to start with due to its simplicity and power. I'm looking forward to diving deeper into more complex concepts as the lessons progress.\n"
   ]
  },
  {
   "cell_type": "code",
   "execution_count": 2,
   "metadata": {},
   "outputs": [],
   "source": [
    "def add( a,  b):\n",
    "    \"\"\"\n",
    "    Add two nubers\n",
    "\n",
    "    Args: \n",
    "        a (int): First letter\n",
    "        b (int): Second letter\n",
    "    \n",
    "    Returns: \n",
    "        int: Sum of two numbers\n",
    "    \"\"\"\n",
    "    return a + b # return sum of a and b"
   ]
  },
  {
   "cell_type": "code",
   "execution_count": 4,
   "metadata": {},
   "outputs": [
    {
     "name": "stdout",
     "output_type": "stream",
     "text": [
      "Hello world!\n",
      "My name is Anna and i have 22\n"
     ]
    }
   ],
   "source": [
    "print(\"Hello world!\")\n",
    "\n",
    "name = \"Anna\"\n",
    "age = 22\n",
    "print(\"My name is\", name, \"and i have\", age)\n",
    " \n",
    "\n"
   ]
  },
  {
   "cell_type": "code",
   "execution_count": 8,
   "metadata": {},
   "outputs": [
    {
     "data": {
      "text/plain": [
       "['python', 'is', 'great!']"
      ]
     },
     "execution_count": 8,
     "metadata": {},
     "output_type": "execute_result"
    }
   ],
   "source": [
    "text = \"python is great!\"\n",
    "\n",
    "text.upper()\n",
    "text.split()"
   ]
  },
  {
   "cell_type": "code",
   "execution_count": 14,
   "metadata": {},
   "outputs": [
    {
     "name": "stdout",
     "output_type": "stream",
     "text": [
      "Hello my name is Joe\n"
     ]
    },
    {
     "data": {
      "text/plain": [
       "True"
      ]
     },
     "execution_count": 14,
     "metadata": {},
     "output_type": "execute_result"
    }
   ],
   "source": [
    "#fstrings is substitute templeate string from js.\n",
    "name = \"Joe\"\n",
    "text = f\"Hello my name is {name}\"\n",
    "print(text)\n",
    "\n",
    "name.strip() #ramove spaces on left and riht\n",
    "\n",
    "\"Py\" in \"Python\"\n",
    "\n",
    "\n"
   ]
  },
  {
   "cell_type": "code",
   "execution_count": 1,
   "metadata": {},
   "outputs": [],
   "source": [
    "2 != 5\n",
    "bool(0)\n",
    "\n",
    "\n",
    "\n",
    "\n",
    "\n"
   ]
  },
  {
   "cell_type": "code",
   "execution_count": 1,
   "metadata": {},
   "outputs": [],
   "source": [
    "\n",
    "x = int(input(\"Write some number: \"))\n",
    "print(f\"number {x} is\" + \" not\"*(not x%2 == 0) + \" even\")"
   ]
  },
  {
   "cell_type": "code",
   "execution_count": 1,
   "metadata": {},
   "outputs": [
    {
     "ename": "ModuleNotFoundError",
     "evalue": "No module named 'ipywidgets'",
     "output_type": "error",
     "traceback": [
      "\u001b[0;31m---------------------------------------------------------------------------\u001b[0m",
      "\u001b[0;31mModuleNotFoundError\u001b[0m                       Traceback (most recent call last)",
      "Cell \u001b[0;32mIn[1], line 1\u001b[0m\n\u001b[0;32m----> 1\u001b[0m \u001b[38;5;28;01mimport\u001b[39;00m \u001b[38;5;21;01mipywidgets\u001b[39;00m \u001b[38;5;28;01mas\u001b[39;00m \u001b[38;5;21;01mwidgets\u001b[39;00m\n\u001b[1;32m      2\u001b[0m \u001b[38;5;28;01mfrom\u001b[39;00m \u001b[38;5;21;01mIPython\u001b[39;00m\u001b[38;5;21;01m.\u001b[39;00m\u001b[38;5;21;01mdisplay\u001b[39;00m \u001b[38;5;28;01mimport\u001b[39;00m display\n\u001b[1;32m      4\u001b[0m \u001b[38;5;28;01mdef\u001b[39;00m \u001b[38;5;21mcheck_even\u001b[39m(x: \u001b[38;5;28mint\u001b[39m) \u001b[38;5;241m-\u001b[39m\u001b[38;5;241m>\u001b[39m \u001b[38;5;28;01mNone\u001b[39;00m:\n",
      "\u001b[0;31mModuleNotFoundError\u001b[0m: No module named 'ipywidgets'"
     ]
    }
   ],
   "source": [
    "import ipywidgets as widgets\n",
    "from IPython.display import display\n",
    "\n",
    "def check_even(x: int) -> None:\n",
    "    result = f\"number {x} is\" + (\" not \" if x % 2 != 0 else \" \") + \"even\"\n",
    "    print(result)\n",
    "\n",
    "slider = widgets.IntSlider(description=\"Number:\", min=0, max=100, step=1, value=0)\n",
    "widgets.interact(check_even, x=slider)"
   ]
  }
 ],
 "metadata": {
  "kernelspec": {
   "display_name": "overview-of-data-science-tools",
   "language": "python",
   "name": "python3"
  },
  "language_info": {
   "codemirror_mode": {
    "name": "ipython",
    "version": 3
   },
   "file_extension": ".py",
   "mimetype": "text/x-python",
   "name": "python",
   "nbconvert_exporter": "python",
   "pygments_lexer": "ipython3",
   "version": "3.12.7"
  }
 },
 "nbformat": 4,
 "nbformat_minor": 2
}
