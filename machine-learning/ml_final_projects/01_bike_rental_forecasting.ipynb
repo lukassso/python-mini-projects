{
 "cells": [
  {
   "cell_type": "markdown",
   "id": "22a2e937",
   "metadata": {},
   "source": [
    "## Task 1: Bike Rental Forecasting – Project Overview\n",
    "\n",
    "The goal of this project is to develop and evaluate regression models that predict the daily number of bike rentals based on weather, calendar, and seasonal data. The dataset comes from the Capital Bikeshare system in Washington, D.C., and is publicly available via the UCI repository.\n",
    "\n",
    "In this notebook, we will:\n",
    "1. Load and explore the dataset, identifying key variables and checking for missing values or duplicates.\n",
    "2. Perform exploratory data analysis (EDA) to understand relationships between input features and the target variable (`cnt` – total count of rentals).\n",
    "3. Prepare the data through encoding, scaling, and splitting into training and testing sets.\n",
    "4. Build and evaluate multiple regression models (Linear Regression, Ridge, Lasso, Decision Trees, Random Forest, Gradient Boosting).\n",
    "5. Assess model performance using metrics such as MAE, MSE, RMSE, and R².\n",
    "6. Interpret feature importance and draw conclusions about the key factors influencing rental demand.\n",
    "7. Summarize findings and reflect on possible improvements and future directions.\n",
    "\n",
    "The final goal is to find the most accurate model and understand which features have the strongest impact on rental predictions.\n"
   ]
  }
 ],
 "metadata": {
  "language_info": {
   "name": "python"
  }
 },
 "nbformat": 4,
 "nbformat_minor": 5
}
