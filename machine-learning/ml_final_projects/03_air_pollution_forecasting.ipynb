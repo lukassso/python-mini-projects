{
 "cells": [
  {
   "cell_type": "markdown",
   "id": "768fd5c1",
   "metadata": {},
   "source": [
    "# Task 3: Air Pollution Forecasting — Project Overview\n",
    "\n",
    "This project focuses on building and evaluating a recurrent neural network (RNN) model for analyzing time series data describing air pollution (PM2.5) in Beijing during 2013–2017.  \n",
    "The goal is to forecast PM2.5 concentration based on meteorological data from the Wanshouxigong monitoring station.\n",
    "\n",
    "Project steps include:\n",
    "\n",
    "- Loading, cleaning, and exploring the CSV dataset\n",
    "- Preparing data for time series analysis (sequential split, standardization, TimeseriesGenerator)\n",
    "- Building and training an LSTM (Long Short-Term Memory) model\n",
    "- Evaluating prediction quality using regression metrics (MSE, R²)\n",
    "- Visualizing results and interpreting the model.\n"
   ]
  },
  {
   "cell_type": "code",
   "execution_count": null,
   "id": "13dbb605",
   "metadata": {
    "vscode": {
     "languageId": "plaintext"
    }
   },
   "outputs": [],
   "source": [
    "## Import required libraries"
   ]
  },
  {
   "cell_type": "code",
   "execution_count": null,
   "id": "10387514",
   "metadata": {
    "vscode": {
     "languageId": "plaintext"
    }
   },
   "outputs": [],
   "source": []
  }
 ],
 "metadata": {
  "language_info": {
   "name": "python"
  }
 },
 "nbformat": 4,
 "nbformat_minor": 5
}
