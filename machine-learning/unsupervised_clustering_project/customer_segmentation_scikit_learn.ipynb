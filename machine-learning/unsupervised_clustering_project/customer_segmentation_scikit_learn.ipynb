{
 "cells": [
  {
   "cell_type": "markdown",
   "id": "fbf2ba74",
   "metadata": {},
   "source": [
    "# Customer Segmentation - Unsupervised Machine Learning Project\n",
    "\n",
    "## Project Description\n",
    "\n",
    "The goal of this project is to analyze customer data from a retail store in order to better understand customer behaviors, needs, and purchasing patterns. By applying unsupervised machine learning techniques, we aim to group similar customers into meaningful segments that can support business decision-making and targeted marketing strategies.\n",
    "\n",
    "We will work with a dataset containing demographic information, purchasing habits, and marketing activity of the customers.\n",
    "\n",
    "## Tasks Overview\n",
    "\n",
    "The following unsupervised learning methods will be applied:\n",
    "\n",
    "- **Data Preparation**  \n",
    "  Data cleaning, handling missing values, encoding categorical variables, outlier detection, feature scaling.\n",
    "\n",
    "- **Clustering Approaches**  \n",
    "  - **K-Means Clustering**\n",
    "  - **Hierarchical Agglomerative Clustering**\n",
    "  - **DBSCAN (Density-Based Spatial Clustering of Applications with Noise)**\n",
    "\n",
    "- **Feature Engineering**  \n",
    "  Creating new customer features to improve clustering quality.\n",
    "\n",
    "- **Dimensionality Reduction**  \n",
    "  Applying PCA (Principal Component Analysis) to reduce feature space.\n",
    "\n",
    "- **Cluster Evaluation**  \n",
    "  Using multiple evaluation metrics:\n",
    "  - Silhouette Score\n",
    "  - Davies-Bouldin Index\n",
    "  - Calinski-Harabasz Index\n",
    "\n",
    "- **Visualization & Interpretation**  \n",
    "  Analyzing and interpreting the discovered customer segments to draw business conclusions.\n",
    "\n",
    "---\n",
    "\n",
    "This project is part of the final assignment for the course:  \n",
    "**Advanced Machine Learning with Scikit-learn**\n",
    "\n",
    "Instructor: Andrzej Bobyk  \n",
    "Year: 2025\n",
    "\n"
   ]
  }
 ],
 "metadata": {
  "language_info": {
   "name": "python"
  }
 },
 "nbformat": 4,
 "nbformat_minor": 5
}
