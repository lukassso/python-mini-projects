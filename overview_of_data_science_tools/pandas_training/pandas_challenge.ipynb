{
 "cells": [
  {
   "cell_type": "code",
   "execution_count": 1,
   "metadata": {},
   "outputs": [],
   "source": [
    "import pandas as pd\n",
    "import numpy as np\n",
    "import matplotlib.pyplot as plt\n",
    "import seaborn as sns\n",
    "\n",
    "plt.style.use('seaborn-v0_8')\n",
    "sns.set_palette(\"husl\")\n",
    "\n",
    "data = {\n",
    "    'animal': ['cat', 'cat', 'snake', 'dog', 'dog', 'cat', 'snake', 'cat', 'dog', 'dog'],\n",
    "    'name': ['Daisy', 'Bella', 'Noodle', 'Charlie', 'Max', 'Molly', 'Draco', 'Kenzo', 'Milo', 'Cooper'],\n",
    "    'age': [2.5, 3, 0.5, np.nan, 5, 2, 4.5, np.nan, 7, 3],\n",
    "    'visits': [1, 3, 2, 3, 2, 3, 1, 1, 2, 1],\n",
    "    'priority': ['yes', 'yes', 'no', 'yes', 'no', 'no', 'no', 'yes', 'no', 'no']\n",
    "}\n",
    "labels = ['a', 'b', 'c', 'd', 'e', 'f', 'g', 'h', 'i', 'j']"
   ]
  },
  {
   "cell_type": "markdown",
   "metadata": {},
   "source": [
    "# Task 1: Creating a DataFrame \n",
    "\n",
    "Using the following data dictionary `data` and list of row indices `labels` describing patients of a veterinary clinic, create a DataFrame named `animals`. Then, display a summary of basic information about this DataFrame and its structure.\n",
    "\n",
    "```\n",
    "data = {\n",
    "'animal': ['cat', 'cat', 'snake', 'dog', 'dog', 'cat', 'snake', 'cat', 'dog','dog'],\n",
    "'name': ['Daisy', 'Bella', 'Noodle', 'Charlie', 'Max', 'Molly', 'Draco', 'Kenzo', 'Milo', 'Cooper'],\n",
    "'age': [2.5, 3, 0.5, np.nan, 5, 2, 4.5, np.nan, 7, 3],\n",
    "'visits': [1, 3, 2, 3, 2, 3, 1, 1, 2, 1],\n",
    "'priority': ['yes', 'yes', 'no', 'yes', 'no', 'no', 'no', 'yes', 'no', 'no']\n",
    "}\n",
    "labels = ['a', 'b', 'c', 'd', 'e', 'f', 'g', 'h', 'i', 'j']\n",
    "```\n"
   ]
  },
  {
   "cell_type": "code",
   "execution_count": 2,
   "metadata": {},
   "outputs": [
    {
     "name": "stdout",
     "output_type": "stream",
     "text": [
      "<class 'pandas.core.frame.DataFrame'>\n",
      "Index: 10 entries, a to j\n",
      "Data columns (total 5 columns):\n",
      " #   Column    Non-Null Count  Dtype  \n",
      "---  ------    --------------  -----  \n",
      " 0   animal    10 non-null     object \n",
      " 1   name      10 non-null     object \n",
      " 2   age       8 non-null      float64\n",
      " 3   visits    10 non-null     int64  \n",
      " 4   priority  10 non-null     object \n",
      "dtypes: float64(1), int64(1), object(3)\n",
      "memory usage: 480.0+ bytes\n",
      "  animal     name  age  visits priority\n",
      "a    cat    Daisy  2.5       1      yes\n",
      "b    cat    Bella  3.0       3      yes\n",
      "c  snake   Noodle  0.5       2       no\n",
      "d    dog  Charlie  NaN       3      yes\n",
      "e    dog      Max  5.0       2       no\n",
      "f    cat    Molly  2.0       3       no\n",
      "g  snake    Draco  4.5       1       no\n",
      "h    cat    Kenzo  NaN       1      yes\n",
      "i    dog     Milo  7.0       2       no\n",
      "j    dog   Cooper  3.0       1       no\n"
     ]
    }
   ],
   "source": [
    "animals = pd.DataFrame(data, index=labels)\n",
    "\n",
    "animals.info()\n",
    "\n",
    "print(animals)"
   ]
  },
  {
   "cell_type": "markdown",
   "metadata": {},
   "source": [
    "# Task 2: Selecting Data from a DataFrame\n",
    "\n",
    "Using the `animals` DataFrame from the previous task, select and then display:\n",
    "\n",
    "a) the first 3 rows,  \n",
    "b) the `animal` and `age` columns,  \n",
    "c) data from rows 3, 4, and 8, contained in the `visits` and `priority` columns,  \n",
    "d) rows where the number of visits is greater than 2,  \n",
    "e) rows where the animal is a cat and is less than 4 years old,  \n",
    "f) rows where the animal's age is in the range from 2 to 4 years (inclusive).\n"
   ]
  },
  {
   "cell_type": "code",
   "execution_count": 3,
   "metadata": {},
   "outputs": [
    {
     "name": "stdout",
     "output_type": "stream",
     "text": [
      "a) The first 3 rows: \n",
      "  animal    name  age  visits priority\n",
      "a    cat   Daisy  2.5       1      yes\n",
      "b    cat   Bella  3.0       3      yes\n",
      "c  snake  Noodle  0.5       2       no\n",
      "\n",
      "b) The \"animal\" and \"age\" columns: \n",
      "  animal  age\n",
      "a    cat  2.5\n",
      "b    cat  3.0\n",
      "c  snake  0.5\n",
      "d    dog  NaN\n",
      "e    dog  5.0\n",
      "f    cat  2.0\n",
      "g  snake  4.5\n",
      "h    cat  NaN\n",
      "i    dog  7.0\n",
      "j    dog  3.0\n",
      "\n",
      "c) Data from rows 3, 4, and 8, contained in the 'visits' and 'priority' columns:\n",
      "   visits priority\n",
      "d       3      yes\n",
      "e       2       no\n",
      "i       2       no\n",
      "\n",
      "d) Rows where the number of visits is greater than 2:\n",
      "  animal     name  age  visits priority\n",
      "b    cat    Bella  3.0       3      yes\n",
      "d    dog  Charlie  NaN       3      yes\n",
      "f    cat    Molly  2.0       3       no\n",
      "\n",
      "e) Rows where the animal is a cat and is less than 4 years old:\n",
      "  animal   name  age  visits priority\n",
      "a    cat  Daisy  2.5       1      yes\n",
      "b    cat  Bella  3.0       3      yes\n",
      "f    cat  Molly  2.0       3       no\n",
      "\n",
      "f) Rows where the animal's age is in the range from 2 to 4 years (inclusive):\n",
      "  animal    name  age  visits priority\n",
      "a    cat   Daisy  2.5       1      yes\n",
      "b    cat   Bella  3.0       3      yes\n",
      "f    cat   Molly  2.0       3       no\n",
      "j    dog  Cooper  3.0       1       no\n"
     ]
    }
   ],
   "source": [
    "print(f'a) The first 3 rows: \\n{animals.head(3)}')\n",
    "\n",
    "print(f'\\nb) The \"animal\" and \"age\" columns: \\n{animals[[\"animal\", \"age\"]]}')\n",
    "\n",
    "print(\"\\nc) Data from rows 3, 4, and 8, contained in the 'visits' and 'priority' columns:\")\n",
    "print(animals.loc[['d', 'e', 'i'], ['visits', 'priority']])\n",
    "\n",
    "print(\"\\nd) Rows where the number of visits is greater than 2:\")\n",
    "print(animals[animals['visits'] > 2])\n",
    "\n",
    "print(\"\\ne) Rows where the animal is a cat and is less than 4 years old:\")\n",
    "print(animals[(animals['animal'] == 'cat') & (animals['age'] < 4)])\n",
    "\n",
    "print(\"\\nf) Rows where the animal's age is in the range from 2 to 4 years (inclusive):\")\n",
    "print(animals[animals['age'].between(2, 4)]) "
   ]
  },
  {
   "cell_type": "markdown",
   "metadata": {},
   "source": [
    "# Task 3: Operations on Rows and Columns\n",
    "\n",
    "Using the `animals` DataFrame from the previous task, in the following order:\n",
    "\n",
    "a) add a row with index `k`, containing information about a new animal – a dog named Buddy, 5.5 years old, who visited the clinic 2 times in normal mode,  \n",
    "b) add a column `price`, containing the value 10 for regular patients and 20 for priority patients,  \n",
    "c) add a column `total`, containing the total cost of all visits,  \n",
    "d) remove the `priority` column,  \n",
    "e) rename the `animal` column to `species`,  \n",
    "f) display the resulting DataFrame.\n"
   ]
  },
  {
   "cell_type": "code",
   "execution_count": 4,
   "metadata": {},
   "outputs": [
    {
     "name": "stdout",
     "output_type": "stream",
     "text": [
      "  species     name  age  visits  price  total\n",
      "a     cat    Daisy  2.5       1     20     20\n",
      "b     cat    Bella  3.0       3     20     60\n",
      "c   snake   Noodle  0.5       2     10     20\n",
      "d     dog  Charlie  NaN       3     20     60\n",
      "e     dog      Max  5.0       2     10     20\n",
      "f     cat    Molly  2.0       3     10     30\n",
      "g   snake    Draco  4.5       1     10     10\n",
      "h     cat    Kenzo  NaN       1     20     20\n",
      "i     dog     Milo  7.0       2     10     20\n",
      "j     dog   Cooper  3.0       1     10     10\n",
      "k     dog    Buddy  5.5       2     10     20\n"
     ]
    }
   ],
   "source": [
    "# a) Adding row 'k'\n",
    "animals.loc['k'] = {'animal': 'dog', 'name': 'Buddy', 'age': 5.5, 'visits': 2, 'priority': 'no'}\n",
    "\n",
    "# b) Adding the 'price' column\n",
    "price_values = [20 if i == 'yes' else 10 for i in animals['priority']]\n",
    "animals['price'] = price_values\n",
    "\n",
    "# c) Adding the 'total' column\n",
    "animals['total'] = animals['visits'] * animals['price']\n",
    "\n",
    "# d) Removing the 'priority' column\n",
    "animals.drop('priority', axis=1, inplace=True)\n",
    "\n",
    "# e) Renaming the 'animal' column to 'species'\n",
    "animals.rename(columns={'animal': 'species'}, inplace=True)\n",
    "\n",
    "# Displaying the resulting DataFrame\n",
    "print(animals)"
   ]
  },
  {
   "cell_type": "markdown",
   "metadata": {},
   "source": [
    "# Task 4: Indexing DataFrames\n",
    "\n",
    "Using the `animals` DataFrame from the previous task, perform the following steps in the given order, displaying the result after each step:\n",
    "\n",
    "a) reset the DataFrame to use the default integer index, ensuring no new column is added with previous index values,  \n",
    "b) create an index from the `name` column,  \n",
    "c) remove the row containing information about the dog named Max,  \n",
    "d) reset the DataFrame to use the default integer index, ensuring the existing index becomes a column in the DataFrame.\n"
   ]
  },
  {
   "cell_type": "code",
   "execution_count": 5,
   "metadata": {},
   "outputs": [
    {
     "name": "stdout",
     "output_type": "stream",
     "text": [
      "      name species  age  visits  price  total\n",
      "0    Daisy     cat  2.5       1     20     20\n",
      "1    Bella     cat  3.0       3     20     60\n",
      "2   Noodle   snake  0.5       2     10     20\n",
      "3  Charlie     dog  NaN       3     20     60\n",
      "4    Molly     cat  2.0       3     10     30\n",
      "5    Draco   snake  4.5       1     10     10\n",
      "6    Kenzo     cat  NaN       1     20     20\n",
      "7     Milo     dog  7.0       2     10     20\n",
      "8   Cooper     dog  3.0       1     10     10\n",
      "9    Buddy     dog  5.5       2     10     20\n"
     ]
    }
   ],
   "source": [
    "# a) Resetting the DataFrame to the default integer index\n",
    "animals.reset_index(drop=True, inplace=True)\n",
    "\n",
    "# b) Creating an index from the 'name' column\n",
    "animals.set_index('name', inplace=True)\n",
    "\n",
    "# c) Removing the row where the dog is named Max\n",
    "animals.drop('Max', inplace=True)\n",
    "\n",
    "# d) Resetting to the default integer index, converting the existing index into a column\n",
    "animals.reset_index(inplace=True)\n",
    "\n",
    "print(animals)"
   ]
  }
 ],
 "metadata": {
  "kernelspec": {
   "display_name": "overview-of-data-science-tools",
   "language": "python",
   "name": "python3"
  },
  "language_info": {
   "codemirror_mode": {
    "name": "ipython",
    "version": 3
   },
   "file_extension": ".py",
   "mimetype": "text/x-python",
   "name": "python",
   "nbconvert_exporter": "python",
   "pygments_lexer": "ipython3",
   "version": "3.12.7"
  }
 },
 "nbformat": 4,
 "nbformat_minor": 2
}
